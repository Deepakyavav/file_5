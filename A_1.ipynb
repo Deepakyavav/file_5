{
 "cells": [
  {
   "attachments": {},
   "cell_type": "markdown",
   "metadata": {},
   "source": [
    "# Q-1"
   ]
  },
  {
   "cell_type": "code",
   "execution_count": 3,
   "metadata": {},
   "outputs": [],
   "source": [
    "import sys\n",
    "def solution(arr, x) :\n",
    "    arr.sort();\n",
    "    closestSum = sys.maxsize;\n",
    "    for i in range(len(arr)-2) :\n",
    "        ptr1 = i + 1; ptr2 = len(arr) - 1;\n",
    "        while (ptr1 < ptr2) :\n",
    "            sum = arr[i] + arr[ptr1] + arr[ptr2];\n",
    "            if (abs(x - sum) < abs(x - closestSum)) :\n",
    "                closestSum = sum\n",
    "            if (sum > x) :\n",
    "                ptr2 -= 1;\n",
    "            else :\n",
    "                ptr1 += 1;\n",
    "    return closestSum;"
   ]
  },
  {
   "cell_type": "code",
   "execution_count": 4,
   "metadata": {},
   "outputs": [
    {
     "name": "stdout",
     "output_type": "stream",
     "text": [
      "2\n"
     ]
    }
   ],
   "source": [
    "nums = [-1,2,1,-4]\n",
    "target = 1\n",
    "print(solution(nums,target))"
   ]
  },
  {
   "attachments": {},
   "cell_type": "markdown",
   "metadata": {},
   "source": [
    "# Q-2"
   ]
  },
  {
   "cell_type": "code",
   "execution_count": 5,
   "metadata": {},
   "outputs": [],
   "source": [
    "def fourSum(nums, target):\n",
    "        quadruplets = []\n",
    "        n = len(nums)\n",
    "        # Sorting the array\n",
    "        nums.sort()\n",
    "        for i in range(n - 3):\n",
    "            # Skip duplicates\n",
    "            if i > 0 and nums[i] == nums[i - 1]:\n",
    "                continue\n",
    "            for j in range(i + 1, n - 2):\n",
    "                # Skip duplicates\n",
    "                if j > i + 1 and nums[j] == nums[j - 1]:\n",
    "                    continue\n",
    "                left = j + 1\n",
    "                right = n - 1\n",
    "                while left < right:\n",
    "                    sum = nums[i] + nums[j] + nums[left] + nums[right]\n",
    "                    if sum < target:\n",
    "                        left += 1\n",
    "                    elif sum > target:\n",
    "                        right -= 1\n",
    "                    else:\n",
    "                        quadruplets.append([nums[i], nums[j], nums[left], nums[right]])\n",
    "                        # Skip duplicates\n",
    "                        while left < right and nums[left] == nums[left + 1]:\n",
    "                            left += 1\n",
    "                        while left < right and nums[right] == nums[right - 1]:\n",
    "                            right -= 1\n",
    "                        left += 1\n",
    "                        right -= 1\n",
    "        return quadruplets"
   ]
  },
  {
   "cell_type": "code",
   "execution_count": 6,
   "metadata": {},
   "outputs": [
    {
     "name": "stdout",
     "output_type": "stream",
     "text": [
      "[[-2, -1, 1, 2], [-2, 0, 0, 2], [-1, 0, 0, 1]]\n"
     ]
    }
   ],
   "source": [
    "nums = [1,0,-1,0,-2,2]\n",
    "target = 0\n",
    "print(fourSum(nums,target))"
   ]
  },
  {
   "attachments": {},
   "cell_type": "markdown",
   "metadata": {},
   "source": [
    "# Q-3"
   ]
  },
  {
   "cell_type": "code",
   "execution_count": 13,
   "metadata": {},
   "outputs": [],
   "source": [
    "def nextPermutation(nums):\n",
    "    p = len(nums) - 2\n",
    "    while p != -1 :\n",
    "      if nums[p] >= nums[p+1] : p -= 1\n",
    "      else :\n",
    "        print(nums[p])\n",
    "        nums[p]\n",
    "        l = len(nums) - 1\n",
    "        while nums[p] >= nums[l] : l -= 1\n",
    "        nums[p], nums[l] = nums[l], nums[p]\n",
    "        p += 1\n",
    "        l = len(nums) - 1\n",
    "        while p < l :\n",
    "          nums[p], nums[l] = nums[l], nums[p]\n",
    "          p += 1\n",
    "          l -= 1\n",
    "        return nums\n",
    "        \n",
    "    nums.reverse()    \n",
    "    return nums"
   ]
  },
  {
   "cell_type": "code",
   "execution_count": 17,
   "metadata": {},
   "outputs": [
    {
     "name": "stdout",
     "output_type": "stream",
     "text": [
      "2\n",
      "[1, 3, 2]\n"
     ]
    }
   ],
   "source": [
    "nums=[1,2,3]\n",
    "print(nextPermutation(nums))"
   ]
  },
  {
   "cell_type": "code",
   "execution_count": 18,
   "metadata": {},
   "outputs": [
    {
     "data": {
      "text/plain": [
       "[1, 2, 3]"
      ]
     },
     "execution_count": 18,
     "metadata": {},
     "output_type": "execute_result"
    }
   ],
   "source": [
    "nextPermutation([3,2,1])"
   ]
  },
  {
   "attachments": {},
   "cell_type": "markdown",
   "metadata": {},
   "source": [
    "# Q-4"
   ]
  },
  {
   "cell_type": "code",
   "execution_count": 19,
   "metadata": {},
   "outputs": [],
   "source": [
    "\n",
    "def searchInsert(nums, target):\n",
    "    l = 0\n",
    "    r = len(nums) - 1\n",
    "    while l <= r:\n",
    "        mid = (l + r) // 2\n",
    "        if nums[mid] < target:\n",
    "            l = mid + 1\n",
    "        elif nums[mid] > target:\n",
    "            r = mid - 1\n",
    "        else:\n",
    "            return mid\n",
    "    return l"
   ]
  },
  {
   "cell_type": "code",
   "execution_count": 20,
   "metadata": {},
   "outputs": [
    {
     "name": "stdout",
     "output_type": "stream",
     "text": [
      "2\n"
     ]
    }
   ],
   "source": [
    "nums = [1,3,5,6]\n",
    "target = 5\n",
    "print(searchInsert(nums,target))"
   ]
  },
  {
   "attachments": {},
   "cell_type": "markdown",
   "metadata": {},
   "source": [
    "# Q-5"
   ]
  },
  {
   "cell_type": "code",
   "execution_count": 23,
   "metadata": {},
   "outputs": [],
   "source": [
    "def plusOne(digits):\n",
    "        i = -1 \n",
    "        length = len(digits) \n",
    "\n",
    "        def Calculate(arr, i, length):\n",
    "            if length != 0 and arr[i] != 9:\n",
    "                arr[i] += 1 \n",
    "            elif length > 0:\n",
    "                arr[i] = 0\n",
    "                length -= 1\n",
    "                i -= 1\n",
    "                Calculate(arr, i, length)\n",
    "            else:\n",
    "                arr.insert(0, 1) \n",
    "        \n",
    "        Calculate(digits, i, length)\n",
    "        return digits"
   ]
  },
  {
   "cell_type": "code",
   "execution_count": 24,
   "metadata": {},
   "outputs": [
    {
     "name": "stdout",
     "output_type": "stream",
     "text": [
      "[1, 2, 4]\n"
     ]
    }
   ],
   "source": [
    "digits=[1,2,3]\n",
    "print(plusOne(digits))"
   ]
  },
  {
   "attachments": {},
   "cell_type": "markdown",
   "metadata": {},
   "source": [
    "# Q-6"
   ]
  },
  {
   "cell_type": "code",
   "execution_count": 35,
   "metadata": {},
   "outputs": [],
   "source": [
    "def singleNumber(arr):\n",
    "    n=len(arr)\n",
    "    #dictionary to store frequency\n",
    "    mm = {}\n",
    "    for i in range(n):\n",
    "        #storing frequency\n",
    "        if arr[i] in mm:\n",
    "            mm[arr[i]] += 1\n",
    "        else:\n",
    "            mm[arr[i]] = 1\n",
    "      \n",
    "    #iterating over dictionary\n",
    "    for key, value in mm.items():\n",
    "        #returning element with frequency 1\n",
    "        if value == 1:\n",
    "            return key"
   ]
  },
  {
   "cell_type": "code",
   "execution_count": 36,
   "metadata": {},
   "outputs": [],
   "source": [
    "nums = [2,2,1]"
   ]
  },
  {
   "cell_type": "code",
   "execution_count": 37,
   "metadata": {},
   "outputs": [
    {
     "name": "stdout",
     "output_type": "stream",
     "text": [
      "1\n"
     ]
    }
   ],
   "source": [
    "print(singleNumber(nums))"
   ]
  },
  {
   "attachments": {},
   "cell_type": "markdown",
   "metadata": {},
   "source": [
    "# Q-7"
   ]
  },
  {
   "cell_type": "code",
   "execution_count": 87,
   "metadata": {},
   "outputs": [],
   "source": [
    "def findMissingRanges( nums, lower,upper):\n",
    "    def f(a, b):\n",
    "        return str(a) if a == b else f'{a}->{b}'\n",
    "\n",
    "    n = len(nums)\n",
    "    if n == 0:\n",
    "        return [[lower, upper]]\n",
    "    ans = []\n",
    "    if nums[0] > lower:\n",
    "        ans.append([lower, nums[0] - 1])\n",
    "    for i in range(1,n):\n",
    "        a=nums[i-1]\n",
    "        b=nums[i]\n",
    "        if b - a > 1:\n",
    "            ans.append([a + 1, b - 1])\n",
    "    if nums[-1] < upper:\n",
    "        ans.append([nums[-1] + 1, upper])\n",
    "    return ans"
   ]
  },
  {
   "cell_type": "code",
   "execution_count": 88,
   "metadata": {},
   "outputs": [
    {
     "name": "stdout",
     "output_type": "stream",
     "text": [
      "[[2, 2], [4, 49], [51, 74], [76, 99]]\n"
     ]
    }
   ],
   "source": [
    "nums = [0,1,3,50,75]\n",
    "lower = 0\n",
    "upper = 99\n",
    "print(findMissingRanges(nums,lower,upper))"
   ]
  },
  {
   "attachments": {},
   "cell_type": "markdown",
   "metadata": {},
   "source": [
    "# Q-8"
   ]
  },
  {
   "cell_type": "code",
   "execution_count": 93,
   "metadata": {},
   "outputs": [],
   "source": [
    "def fun(arr):\n",
    "    l=[0]*50\n",
    "    for i in arr:\n",
    "        l[i[0]]+=1\n",
    "        l[i[1]+1]-=1\n",
    "    for i in range(1,50):\n",
    "        l[i]+=l[i-1]\n",
    "    if max(l)>=2:\n",
    "        return False\n",
    "    return True"
   ]
  },
  {
   "cell_type": "code",
   "execution_count": 94,
   "metadata": {},
   "outputs": [
    {
     "name": "stdout",
     "output_type": "stream",
     "text": [
      "False\n"
     ]
    }
   ],
   "source": [
    "intervals = [[0,30],[5,10],[15,20]]\n",
    "print(fun(intervals))"
   ]
  }
 ],
 "metadata": {
  "kernelspec": {
   "display_name": "Python 3",
   "language": "python",
   "name": "python3"
  },
  "language_info": {
   "codemirror_mode": {
    "name": "ipython",
    "version": 3
   },
   "file_extension": ".py",
   "mimetype": "text/x-python",
   "name": "python",
   "nbconvert_exporter": "python",
   "pygments_lexer": "ipython3",
   "version": "3.11.2"
  },
  "orig_nbformat": 4
 },
 "nbformat": 4,
 "nbformat_minor": 2
}
